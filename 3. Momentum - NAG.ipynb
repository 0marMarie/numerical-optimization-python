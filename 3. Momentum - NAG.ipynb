{
 "cells": [
  {
   "cell_type": "markdown",
   "id": "c41c737c",
   "metadata": {},
   "source": [
    "# 🛸 Momentum - NAG"
   ]
  },
  {
   "cell_type": "markdown",
   "id": "e2be215d",
   "metadata": {},
   "source": [
    "### Imports"
   ]
  },
  {
   "cell_type": "code",
   "execution_count": 1,
   "id": "bf2ba27f",
   "metadata": {},
   "outputs": [],
   "source": [
    "import numpy as np\n",
    "%matplotlib inline\n",
    "import matplotlib.pyplot as plt\n",
    "import pandas as pd\n",
    "from sklearn.metrics import r2_score\n",
    "import random"
   ]
  },
  {
   "cell_type": "markdown",
   "id": "f11e8e26",
   "metadata": {},
   "source": [
    "### Generate Data"
   ]
  },
  {
   "cell_type": "code",
   "execution_count": 2,
   "id": "ad6f71c0",
   "metadata": {},
   "outputs": [
    {
     "data": {
      "text/plain": [
       "array([17.95918367, 12.65306122, 10.6122449 , 19.59183673, 15.10204082,\n",
       "        1.2244898 ,  8.16326531,  6.93877551,  1.63265306,  2.04081633,\n",
       "        0.        , 11.02040816, 14.69387755,  4.08163265,  5.71428571,\n",
       "       13.06122449,  3.26530612, 16.32653061,  6.53061224, 10.20408163,\n",
       "       13.46938776,  7.34693878,  8.97959184,  9.3877551 , 15.91836735,\n",
       "        4.48979592, 17.55102041, 18.7755102 , 12.24489796,  5.30612245,\n",
       "        0.40816327, 16.73469388,  7.75510204,  9.79591837,  8.57142857,\n",
       "        2.44897959, 17.14285714, 20.        , 13.87755102,  0.81632653,\n",
       "       15.51020408, 11.83673469, 18.36734694,  4.89795918,  6.12244898,\n",
       "       14.28571429, 11.42857143,  2.85714286,  3.67346939, 19.18367347])"
      ]
     },
     "execution_count": 2,
     "metadata": {},
     "output_type": "execute_result"
    }
   ],
   "source": [
    "data = np.linspace(0, 20, num=50)\n",
    "np.random.shuffle(data)\n",
    "data"
   ]
  },
  {
   "cell_type": "code",
   "execution_count": 3,
   "id": "bf95ed18",
   "metadata": {},
   "outputs": [],
   "source": [
    "x = data[:]\n",
    "y = (-2 * x) + 1"
   ]
  },
  {
   "cell_type": "markdown",
   "id": "e5645a8b",
   "metadata": {},
   "source": [
    "## Momentum"
   ]
  },
  {
   "cell_type": "code",
   "execution_count": 4,
   "id": "36c08c21",
   "metadata": {},
   "outputs": [
    {
     "name": "stdout",
     "output_type": "stream",
     "text": [
      "After 17 Iterations\n",
      "\n",
      "updated_theta0: -0.0013175009931727345\n",
      "updated_theta1: -0.007905715854076836\n",
      "loss: 0.166244256870748\n",
      "\n",
      "Y_Hat: \n",
      "[-34.46103338 -24.31823375 -20.41715697 -37.58189481 -28.99952589\n",
      "  -2.47220378 -15.73586483 -13.39521876  -3.25241913  -4.03263449\n",
      "  -0.13155771 -21.19737233 -28.21931053  -7.93371127 -11.0545727\n",
      " -25.09844911  -6.37328056 -31.34017196 -12.61500341 -19.63694161\n",
      " -25.87866447 -14.17543412 -17.29629555 -18.0765109  -30.5599566\n",
      "  -8.71392663 -33.68081803 -36.0214641  -23.5380184  -10.27435734\n",
      "  -0.91177306 -32.12038732 -14.95564948 -18.85672626 -16.51608019\n",
      "  -4.81284984 -32.90060267 -38.36211017 -26.65887982  -1.69198842\n",
      " -29.77974125 -22.75780304 -35.24124874  -9.49414198 -11.83478805\n",
      " -27.43909518 -21.97758768  -5.5930652   -7.15349591 -36.80167945]\n",
      "\n",
      "Y: \n",
      "[-34.91836735 -24.30612245 -20.2244898  -38.18367347 -29.20408163\n",
      "  -1.44897959 -15.32653061 -12.87755102  -2.26530612  -3.08163265\n",
      "   1.         -21.04081633 -28.3877551   -7.16326531 -10.42857143\n",
      " -25.12244898  -5.53061224 -31.65306122 -12.06122449 -19.40816327\n",
      " -25.93877551 -13.69387755 -16.95918367 -17.7755102  -30.83673469\n",
      "  -7.97959184 -34.10204082 -36.55102041 -23.48979592  -9.6122449\n",
      "   0.18367347 -32.46938776 -14.51020408 -18.59183673 -16.14285714\n",
      "  -3.89795918 -33.28571429 -39.         -26.75510204  -0.63265306\n",
      " -30.02040816 -22.67346939 -35.73469388  -8.79591837 -11.24489796\n",
      " -27.57142857 -21.85714286  -4.71428571  -6.34693878 -37.36734694]\n"
     ]
    }
   ],
   "source": [
    "def Momentum(x, y, alpha, gamma, epochs):\n",
    "    \n",
    "    last_updated_theta0 = 0\n",
    "    last_updated_theta1 = 0\n",
    "\n",
    "    m = len(x) \n",
    "    all_loss = []\n",
    "    theta0, theta1 = 0, 0\n",
    "\n",
    "    for i in range(epochs):\n",
    "        y_hat  = theta0 + theta1 * x\n",
    "\n",
    "        loss = sum( np.square(y_hat - y) ) /(2*m)\n",
    "\n",
    "        # Add previous thetas and loss \n",
    "        all_loss.append(loss)\n",
    "        \n",
    "        # Gradient thetas\n",
    "        g_theta0 = sum(y_hat - y) / m\n",
    "        g_theta1 = sum((y_hat - y) * x) / m\n",
    "        \n",
    "        # used updated thetas to learn from the history \n",
    "        updated_theta0 = gamma * last_updated_theta0 + (alpha * g_theta0)\n",
    "        updated_theta1 = gamma * last_updated_theta1 + (alpha * g_theta1) \n",
    "\n",
    "        # Update thetas using the updated version of them\n",
    "        theta0 = theta0 - updated_theta0\n",
    "        theta1 = theta1 - updated_theta1\n",
    "\n",
    "\n",
    "        # Update the last updated thetas for the next iteration\n",
    "        last_updated_theta0, last_updated_theta1 = updated_theta0, updated_theta1\n",
    "\n",
    "        \n",
    "        \n",
    "        # Stopping using gradient\n",
    "        if np.linalg.norm([updated_theta0, updated_theta1]) < 0.01:\n",
    "            break\n",
    "        \n",
    "#         # Stopping using loss\n",
    "#         if (i > 0) and (all_loss[i-1] - all_loss[i]) < 0.0001:\n",
    "#             break\n",
    "        \n",
    "#         # Stopping using theta\n",
    "#         if (i > 0) and ( ( np.linalg.norm([all_theta0[i], all_theta1[i]]) \n",
    "#                             - np.linalg.norm([all_theta0[i-1], all_theta1[i-1]])) < 0.00001):\n",
    "#             break\n",
    "    \n",
    "    print(f\"After {i+1} Iterations\\n\")\n",
    "    print(f\"updated_theta0: {updated_theta0}\")\n",
    "    print(f\"updated_theta1: {updated_theta1}\")\n",
    "    print(f\"loss: {loss}\\n\")\n",
    "    print(f\"Y_Hat: \\n{y_hat}\\n\")\n",
    "    print(f\"Y: \\n{y}\")\n",
    "\n",
    "    return (all_loss, y_hat, loss, i)\n",
    "\n",
    "all_loss, y_hat, loss, num_iterations \\\n",
    "= Momentum(x,y, 0.001, 0.6, 250)\n"
   ]
  },
  {
   "cell_type": "code",
   "execution_count": 5,
   "id": "d3be12b0",
   "metadata": {},
   "outputs": [
    {
     "data": {
      "text/plain": [
       "0.9976041268862745"
      ]
     },
     "execution_count": 5,
     "metadata": {},
     "output_type": "execute_result"
    }
   ],
   "source": [
    "# Score\n",
    "r2_score(y, y_hat)"
   ]
  },
  {
   "cell_type": "code",
   "execution_count": 6,
   "id": "5b85c6b1",
   "metadata": {},
   "outputs": [
    {
     "data": {
      "image/png": "[encoded data removed]",
      "text/plain": [
       "<Figure size 432x288 with 1 Axes>"
      ]
     },
     "metadata": {
      "needs_background": "light"
     },
     "output_type": "display_data"
    }
   ],
   "source": [
    "# epochs - loss\n",
    "plt.plot(all_loss)\n",
    "plt.title('Epochs - Loss')\n",
    "plt.xlabel('Epochs')\n",
    "plt.ylabel('Loss')\n",
    "plt.show()"
   ]
  },
  {
   "cell_type": "markdown",
   "id": "45785d79",
   "metadata": {},
   "source": [
    "## NAG - Nesterov Accelerated Gradient"
   ]
  },
  {
   "cell_type": "code",
   "execution_count": 7,
   "id": "e2eadb78",
   "metadata": {},
   "outputs": [
    {
     "name": "stdout",
     "output_type": "stream",
     "text": [
      "After 24 Iterations\n",
      "\n",
      "updated_theta0: 0.00038781365893250663\n",
      "updated_theta1: 0.009146529577630975\n",
      "loss: 0.4752121491691662\n",
      "\n",
      "Y_Hat: \n",
      "[-33.32192236 -23.51543168 -19.7437045  -36.3393041  -28.0415043\n",
      "  -2.39375945 -15.21763188 -12.95459557  -3.14810489  -3.90245033\n",
      "  -0.13072314 -20.49804993 -27.28715886  -7.67417751 -10.69155926\n",
      " -24.26977712  -6.16548664 -30.30454061 -12.20025013 -18.98935906\n",
      " -25.02412255 -13.708941   -16.72632275 -17.48066819 -29.55019517\n",
      "  -8.42852295 -32.56757692 -34.83061323 -22.76108624  -9.93721382\n",
      "  -0.88506858 -31.05888605 -14.46328644 -18.23501362 -15.97197731\n",
      "  -4.65679576 -31.81323148 -37.09364954 -25.77846799  -1.63941402\n",
      " -28.79584974 -22.00674081 -34.07626779  -9.18286838 -11.44590469\n",
      " -26.53281343 -21.25239537  -5.4111412   -6.91983207 -35.58495867]\n",
      "\n",
      "Y: \n",
      "[-34.91836735 -24.30612245 -20.2244898  -38.18367347 -29.20408163\n",
      "  -1.44897959 -15.32653061 -12.87755102  -2.26530612  -3.08163265\n",
      "   1.         -21.04081633 -28.3877551   -7.16326531 -10.42857143\n",
      " -25.12244898  -5.53061224 -31.65306122 -12.06122449 -19.40816327\n",
      " -25.93877551 -13.69387755 -16.95918367 -17.7755102  -30.83673469\n",
      "  -7.97959184 -34.10204082 -36.55102041 -23.48979592  -9.6122449\n",
      "   0.18367347 -32.46938776 -14.51020408 -18.59183673 -16.14285714\n",
      "  -3.89795918 -33.28571429 -39.         -26.75510204  -0.63265306\n",
      " -30.02040816 -22.67346939 -35.73469388  -8.79591837 -11.24489796\n",
      " -27.57142857 -21.85714286  -4.71428571  -6.34693878 -37.36734694]\n"
     ]
    }
   ],
   "source": [
    "def NAG(x, y, alpha, gamma, epochs):\n",
    "    \n",
    "    last_updated_theta0 = 0\n",
    "    last_updated_theta1 = 0\n",
    "\n",
    "    m = len(x) \n",
    "    all_loss = []\n",
    "    theta0, theta1 = 0, 0\n",
    "\n",
    "    for i in range(epochs):\n",
    "        y_hat  = theta0 + theta1 * x\n",
    "\n",
    "        loss = sum( np.square(y_hat - y) ) /(2*m)\n",
    "\n",
    "        # Add previous thetas and loss \n",
    "        all_loss.append(loss)\n",
    "\n",
    "        # calculate updated thetas first without the added gradient \n",
    "        # Note: use just the history\n",
    "        updated_theta0 = gamma * last_updated_theta0\n",
    "        updated_theta1 = gamma * last_updated_theta1\n",
    "        \n",
    "        # Gradient thetas\n",
    "        g_theta0 = sum(y_hat - y) / m\n",
    "        g_theta1 = sum((y_hat - y) * x) / m\n",
    "        \n",
    "        # calculate gradient first based on the updated thetas : Look First\n",
    "        gradient_theta0 = ( alpha * g_theta0) - updated_theta0\n",
    "        gradient_theta1 = ( alpha * g_theta1) - updated_theta1\n",
    "        \n",
    "        # used updated gradients to update theta\n",
    "        updated_theta0 = gamma * last_updated_theta0 + gradient_theta0\n",
    "        updated_theta1 = gamma * last_updated_theta1 + gradient_theta1\n",
    "        \n",
    "        \n",
    "        # Update thetas using the updated version of them\n",
    "        theta0 = theta0 - updated_theta0\n",
    "        theta1 = theta1 - updated_theta1\n",
    "        \n",
    "        # Update the last updated thetas for the next iteration\n",
    "        last_updated_theta0, last_updated_theta1 = updated_theta0, updated_theta1\n",
    "        \n",
    "\n",
    "        # Stopping using gradient\n",
    "        if np.linalg.norm([updated_theta0, updated_theta1]) < 0.01:\n",
    "            break\n",
    "        \n",
    "#         # Stopping using loss\n",
    "#         if (i > 0) and (all_loss[i-1] - all_loss[i]) < 0.00001:\n",
    "#             break\n",
    "        \n",
    "#         # Stopping using theta\n",
    "#         if (i > 0) and ( ( np.linalg.norm([all_theta0[i], all_theta1[i]]) \n",
    "#                             - np.linalg.norm([all_theta0[i-1], all_theta1[i-1]])) < 0.00001):\n",
    "#             break\n",
    "    \n",
    "    print(f\"After {i+1} Iterations\\n\")\n",
    "    print(f\"updated_theta0: {updated_theta0}\")\n",
    "    print(f\"updated_theta1: {updated_theta1}\")\n",
    "    print(f\"loss: {loss}\\n\")\n",
    "    print(f\"Y_Hat: \\n{y_hat}\\n\")\n",
    "    print(f\"Y: \\n{y}\")\n",
    "\n",
    "    return (all_loss, y_hat, loss, i)\n",
    "\n",
    "all_loss, y_hat, loss, num_iterations \\\n",
    "= NAG(x,y, 0.001, 0.9, 500)\n"
   ]
  },
  {
   "cell_type": "code",
   "execution_count": 8,
   "id": "b7ecada2",
   "metadata": {},
   "outputs": [
    {
     "data": {
      "text/plain": [
       "0.9931513543207973"
      ]
     },
     "execution_count": 8,
     "metadata": {},
     "output_type": "execute_result"
    }
   ],
   "source": [
    "# Score\n",
    "r2_score(y, y_hat)"
   ]
  },
  {
   "cell_type": "code",
   "execution_count": 9,
   "id": "d2f1f7f6",
   "metadata": {},
   "outputs": [
    {
     "data": {
      "image/png": "[encoded data removed]",
      "text/plain": [
       "<Figure size 432x288 with 1 Axes>"
      ]
     },
     "metadata": {
      "needs_background": "light"
     },
     "output_type": "display_data"
    }
   ],
   "source": [
    "# epochs - loss\n",
    "plt.plot(all_loss)\n",
    "plt.title('Epochs - Loss')\n",
    "plt.xlabel('Epochs')\n",
    "plt.ylabel('Loss')\n",
    "plt.show()"
   ]
  },
  {
   "cell_type": "code",
   "execution_count": null,
   "id": "26afc289",
   "metadata": {},
   "outputs": [],
   "source": []
  }
 ],
 "metadata": {
  "kernelspec": {
   "display_name": "Python 3 (ipykernel)",
   "language": "python",
   "name": "python3"
  },
  "language_info": {
   "codemirror_mode": {
    "name": "ipython",
    "version": 3
   },
   "file_extension": ".py",
   "mimetype": "text/x-python",
   "name": "python",
   "nbconvert_exporter": "python",
   "pygments_lexer": "ipython3",
   "version": "3.9.10"
  }
 },
 "nbformat": 4,
 "nbformat_minor": 5
}
